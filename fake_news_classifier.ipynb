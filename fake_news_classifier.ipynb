{
 "cells": [
  {
   "cell_type": "code",
   "execution_count": 2,
   "id": "43c5ff1d",
   "metadata": {},
   "outputs": [],
   "source": [
    "import pandas as pd\n",
    "import numpy as np\n",
    "import matplotlib.pyplot as plt\n",
    "import seaborn as sns\n"
   ]
  },
  {
   "cell_type": "code",
   "execution_count": 3,
   "id": "132a3609",
   "metadata": {},
   "outputs": [],
   "source": [
    "df = pd.read_csv('train.csv')"
   ]
  },
  {
   "cell_type": "code",
   "execution_count": 3,
   "id": "9ecf8d16",
   "metadata": {},
   "outputs": [
    {
     "data": {
      "text/html": [
       "<div>\n",
       "<style scoped>\n",
       "    .dataframe tbody tr th:only-of-type {\n",
       "        vertical-align: middle;\n",
       "    }\n",
       "\n",
       "    .dataframe tbody tr th {\n",
       "        vertical-align: top;\n",
       "    }\n",
       "\n",
       "    .dataframe thead th {\n",
       "        text-align: right;\n",
       "    }\n",
       "</style>\n",
       "<table border=\"1\" class=\"dataframe\">\n",
       "  <thead>\n",
       "    <tr style=\"text-align: right;\">\n",
       "      <th></th>\n",
       "      <th>id</th>\n",
       "      <th>title</th>\n",
       "      <th>author</th>\n",
       "      <th>text</th>\n",
       "      <th>label</th>\n",
       "    </tr>\n",
       "  </thead>\n",
       "  <tbody>\n",
       "    <tr>\n",
       "      <th>0</th>\n",
       "      <td>0</td>\n",
       "      <td>House Dem Aide: We Didn’t Even See Comey’s Let...</td>\n",
       "      <td>Darrell Lucus</td>\n",
       "      <td>House Dem Aide: We Didn’t Even See Comey’s Let...</td>\n",
       "      <td>1</td>\n",
       "    </tr>\n",
       "    <tr>\n",
       "      <th>1</th>\n",
       "      <td>1</td>\n",
       "      <td>FLYNN: Hillary Clinton, Big Woman on Campus - ...</td>\n",
       "      <td>Daniel J. Flynn</td>\n",
       "      <td>Ever get the feeling your life circles the rou...</td>\n",
       "      <td>0</td>\n",
       "    </tr>\n",
       "    <tr>\n",
       "      <th>2</th>\n",
       "      <td>2</td>\n",
       "      <td>Why the Truth Might Get You Fired</td>\n",
       "      <td>Consortiumnews.com</td>\n",
       "      <td>Why the Truth Might Get You Fired October 29, ...</td>\n",
       "      <td>1</td>\n",
       "    </tr>\n",
       "    <tr>\n",
       "      <th>3</th>\n",
       "      <td>3</td>\n",
       "      <td>15 Civilians Killed In Single US Airstrike Hav...</td>\n",
       "      <td>Jessica Purkiss</td>\n",
       "      <td>Videos 15 Civilians Killed In Single US Airstr...</td>\n",
       "      <td>1</td>\n",
       "    </tr>\n",
       "    <tr>\n",
       "      <th>4</th>\n",
       "      <td>4</td>\n",
       "      <td>Iranian woman jailed for fictional unpublished...</td>\n",
       "      <td>Howard Portnoy</td>\n",
       "      <td>Print \\nAn Iranian woman has been sentenced to...</td>\n",
       "      <td>1</td>\n",
       "    </tr>\n",
       "  </tbody>\n",
       "</table>\n",
       "</div>"
      ],
      "text/plain": [
       "   id                                              title              author  \\\n",
       "0   0  House Dem Aide: We Didn’t Even See Comey’s Let...       Darrell Lucus   \n",
       "1   1  FLYNN: Hillary Clinton, Big Woman on Campus - ...     Daniel J. Flynn   \n",
       "2   2                  Why the Truth Might Get You Fired  Consortiumnews.com   \n",
       "3   3  15 Civilians Killed In Single US Airstrike Hav...     Jessica Purkiss   \n",
       "4   4  Iranian woman jailed for fictional unpublished...      Howard Portnoy   \n",
       "\n",
       "                                                text  label  \n",
       "0  House Dem Aide: We Didn’t Even See Comey’s Let...      1  \n",
       "1  Ever get the feeling your life circles the rou...      0  \n",
       "2  Why the Truth Might Get You Fired October 29, ...      1  \n",
       "3  Videos 15 Civilians Killed In Single US Airstr...      1  \n",
       "4  Print \\nAn Iranian woman has been sentenced to...      1  "
      ]
     },
     "execution_count": 3,
     "metadata": {},
     "output_type": "execute_result"
    }
   ],
   "source": [
    "df.head()"
   ]
  },
  {
   "cell_type": "code",
   "execution_count": 4,
   "id": "aa64bc6f",
   "metadata": {},
   "outputs": [],
   "source": [
    "X = df.drop('label', axis=1)"
   ]
  },
  {
   "cell_type": "code",
   "execution_count": 5,
   "id": "45ec22a4",
   "metadata": {},
   "outputs": [
    {
     "data": {
      "text/html": [
       "<div>\n",
       "<style scoped>\n",
       "    .dataframe tbody tr th:only-of-type {\n",
       "        vertical-align: middle;\n",
       "    }\n",
       "\n",
       "    .dataframe tbody tr th {\n",
       "        vertical-align: top;\n",
       "    }\n",
       "\n",
       "    .dataframe thead th {\n",
       "        text-align: right;\n",
       "    }\n",
       "</style>\n",
       "<table border=\"1\" class=\"dataframe\">\n",
       "  <thead>\n",
       "    <tr style=\"text-align: right;\">\n",
       "      <th></th>\n",
       "      <th>id</th>\n",
       "      <th>title</th>\n",
       "      <th>author</th>\n",
       "      <th>text</th>\n",
       "    </tr>\n",
       "  </thead>\n",
       "  <tbody>\n",
       "    <tr>\n",
       "      <th>0</th>\n",
       "      <td>0</td>\n",
       "      <td>House Dem Aide: We Didn’t Even See Comey’s Let...</td>\n",
       "      <td>Darrell Lucus</td>\n",
       "      <td>House Dem Aide: We Didn’t Even See Comey’s Let...</td>\n",
       "    </tr>\n",
       "    <tr>\n",
       "      <th>1</th>\n",
       "      <td>1</td>\n",
       "      <td>FLYNN: Hillary Clinton, Big Woman on Campus - ...</td>\n",
       "      <td>Daniel J. Flynn</td>\n",
       "      <td>Ever get the feeling your life circles the rou...</td>\n",
       "    </tr>\n",
       "    <tr>\n",
       "      <th>2</th>\n",
       "      <td>2</td>\n",
       "      <td>Why the Truth Might Get You Fired</td>\n",
       "      <td>Consortiumnews.com</td>\n",
       "      <td>Why the Truth Might Get You Fired October 29, ...</td>\n",
       "    </tr>\n",
       "    <tr>\n",
       "      <th>3</th>\n",
       "      <td>3</td>\n",
       "      <td>15 Civilians Killed In Single US Airstrike Hav...</td>\n",
       "      <td>Jessica Purkiss</td>\n",
       "      <td>Videos 15 Civilians Killed In Single US Airstr...</td>\n",
       "    </tr>\n",
       "    <tr>\n",
       "      <th>4</th>\n",
       "      <td>4</td>\n",
       "      <td>Iranian woman jailed for fictional unpublished...</td>\n",
       "      <td>Howard Portnoy</td>\n",
       "      <td>Print \\nAn Iranian woman has been sentenced to...</td>\n",
       "    </tr>\n",
       "  </tbody>\n",
       "</table>\n",
       "</div>"
      ],
      "text/plain": [
       "   id                                              title              author  \\\n",
       "0   0  House Dem Aide: We Didn’t Even See Comey’s Let...       Darrell Lucus   \n",
       "1   1  FLYNN: Hillary Clinton, Big Woman on Campus - ...     Daniel J. Flynn   \n",
       "2   2                  Why the Truth Might Get You Fired  Consortiumnews.com   \n",
       "3   3  15 Civilians Killed In Single US Airstrike Hav...     Jessica Purkiss   \n",
       "4   4  Iranian woman jailed for fictional unpublished...      Howard Portnoy   \n",
       "\n",
       "                                                text  \n",
       "0  House Dem Aide: We Didn’t Even See Comey’s Let...  \n",
       "1  Ever get the feeling your life circles the rou...  \n",
       "2  Why the Truth Might Get You Fired October 29, ...  \n",
       "3  Videos 15 Civilians Killed In Single US Airstr...  \n",
       "4  Print \\nAn Iranian woman has been sentenced to...  "
      ]
     },
     "execution_count": 5,
     "metadata": {},
     "output_type": "execute_result"
    }
   ],
   "source": [
    "X.head()"
   ]
  },
  {
   "cell_type": "code",
   "execution_count": 6,
   "id": "c2166683",
   "metadata": {},
   "outputs": [],
   "source": [
    "y = df['label']"
   ]
  },
  {
   "cell_type": "code",
   "execution_count": 7,
   "id": "9eaa5824",
   "metadata": {},
   "outputs": [
    {
     "data": {
      "text/plain": [
       "0    1\n",
       "1    0\n",
       "2    1\n",
       "3    1\n",
       "4    1\n",
       "Name: label, dtype: int64"
      ]
     },
     "execution_count": 7,
     "metadata": {},
     "output_type": "execute_result"
    }
   ],
   "source": [
    "y.head()"
   ]
  },
  {
   "cell_type": "code",
   "execution_count": 8,
   "id": "46baf31c",
   "metadata": {},
   "outputs": [
    {
     "data": {
      "text/plain": [
       "(20800, 5)"
      ]
     },
     "execution_count": 8,
     "metadata": {},
     "output_type": "execute_result"
    }
   ],
   "source": [
    "df.shape"
   ]
  },
  {
   "cell_type": "code",
   "execution_count": 9,
   "id": "c3b31c1a",
   "metadata": {},
   "outputs": [],
   "source": [
    "df = df.dropna()"
   ]
  },
  {
   "cell_type": "code",
   "execution_count": 10,
   "id": "b7aed09c",
   "metadata": {},
   "outputs": [
    {
     "data": {
      "text/plain": [
       "(18285, 5)"
      ]
     },
     "execution_count": 10,
     "metadata": {},
     "output_type": "execute_result"
    }
   ],
   "source": [
    "df.shape"
   ]
  },
  {
   "cell_type": "code",
   "execution_count": 11,
   "id": "5dfde695",
   "metadata": {},
   "outputs": [
    {
     "data": {
      "text/html": [
       "<div>\n",
       "<style scoped>\n",
       "    .dataframe tbody tr th:only-of-type {\n",
       "        vertical-align: middle;\n",
       "    }\n",
       "\n",
       "    .dataframe tbody tr th {\n",
       "        vertical-align: top;\n",
       "    }\n",
       "\n",
       "    .dataframe thead th {\n",
       "        text-align: right;\n",
       "    }\n",
       "</style>\n",
       "<table border=\"1\" class=\"dataframe\">\n",
       "  <thead>\n",
       "    <tr style=\"text-align: right;\">\n",
       "      <th></th>\n",
       "      <th>id</th>\n",
       "      <th>title</th>\n",
       "      <th>author</th>\n",
       "      <th>text</th>\n",
       "      <th>label</th>\n",
       "    </tr>\n",
       "  </thead>\n",
       "  <tbody>\n",
       "    <tr>\n",
       "      <th>0</th>\n",
       "      <td>0</td>\n",
       "      <td>House Dem Aide: We Didn’t Even See Comey’s Let...</td>\n",
       "      <td>Darrell Lucus</td>\n",
       "      <td>House Dem Aide: We Didn’t Even See Comey’s Let...</td>\n",
       "      <td>1</td>\n",
       "    </tr>\n",
       "    <tr>\n",
       "      <th>1</th>\n",
       "      <td>1</td>\n",
       "      <td>FLYNN: Hillary Clinton, Big Woman on Campus - ...</td>\n",
       "      <td>Daniel J. Flynn</td>\n",
       "      <td>Ever get the feeling your life circles the rou...</td>\n",
       "      <td>0</td>\n",
       "    </tr>\n",
       "    <tr>\n",
       "      <th>2</th>\n",
       "      <td>2</td>\n",
       "      <td>Why the Truth Might Get You Fired</td>\n",
       "      <td>Consortiumnews.com</td>\n",
       "      <td>Why the Truth Might Get You Fired October 29, ...</td>\n",
       "      <td>1</td>\n",
       "    </tr>\n",
       "    <tr>\n",
       "      <th>3</th>\n",
       "      <td>3</td>\n",
       "      <td>15 Civilians Killed In Single US Airstrike Hav...</td>\n",
       "      <td>Jessica Purkiss</td>\n",
       "      <td>Videos 15 Civilians Killed In Single US Airstr...</td>\n",
       "      <td>1</td>\n",
       "    </tr>\n",
       "    <tr>\n",
       "      <th>4</th>\n",
       "      <td>4</td>\n",
       "      <td>Iranian woman jailed for fictional unpublished...</td>\n",
       "      <td>Howard Portnoy</td>\n",
       "      <td>Print \\nAn Iranian woman has been sentenced to...</td>\n",
       "      <td>1</td>\n",
       "    </tr>\n",
       "    <tr>\n",
       "      <th>5</th>\n",
       "      <td>5</td>\n",
       "      <td>Jackie Mason: Hollywood Would Love Trump if He...</td>\n",
       "      <td>Daniel Nussbaum</td>\n",
       "      <td>In these trying times, Jackie Mason is the Voi...</td>\n",
       "      <td>0</td>\n",
       "    </tr>\n",
       "    <tr>\n",
       "      <th>7</th>\n",
       "      <td>7</td>\n",
       "      <td>Benoît Hamon Wins French Socialist Party’s Pre...</td>\n",
       "      <td>Alissa J. Rubin</td>\n",
       "      <td>PARIS  —   France chose an idealistic, traditi...</td>\n",
       "      <td>0</td>\n",
       "    </tr>\n",
       "    <tr>\n",
       "      <th>9</th>\n",
       "      <td>9</td>\n",
       "      <td>A Back-Channel Plan for Ukraine and Russia, Co...</td>\n",
       "      <td>Megan Twohey and Scott Shane</td>\n",
       "      <td>A week before Michael T. Flynn resigned as nat...</td>\n",
       "      <td>0</td>\n",
       "    </tr>\n",
       "    <tr>\n",
       "      <th>10</th>\n",
       "      <td>10</td>\n",
       "      <td>Obama’s Organizing for Action Partners with So...</td>\n",
       "      <td>Aaron Klein</td>\n",
       "      <td>Organizing for Action, the activist group that...</td>\n",
       "      <td>0</td>\n",
       "    </tr>\n",
       "    <tr>\n",
       "      <th>11</th>\n",
       "      <td>11</td>\n",
       "      <td>BBC Comedy Sketch \"Real Housewives of ISIS\" Ca...</td>\n",
       "      <td>Chris Tomlinson</td>\n",
       "      <td>The BBC produced spoof on the “Real Housewives...</td>\n",
       "      <td>0</td>\n",
       "    </tr>\n",
       "  </tbody>\n",
       "</table>\n",
       "</div>"
      ],
      "text/plain": [
       "    id                                              title  \\\n",
       "0    0  House Dem Aide: We Didn’t Even See Comey’s Let...   \n",
       "1    1  FLYNN: Hillary Clinton, Big Woman on Campus - ...   \n",
       "2    2                  Why the Truth Might Get You Fired   \n",
       "3    3  15 Civilians Killed In Single US Airstrike Hav...   \n",
       "4    4  Iranian woman jailed for fictional unpublished...   \n",
       "5    5  Jackie Mason: Hollywood Would Love Trump if He...   \n",
       "7    7  Benoît Hamon Wins French Socialist Party’s Pre...   \n",
       "9    9  A Back-Channel Plan for Ukraine and Russia, Co...   \n",
       "10  10  Obama’s Organizing for Action Partners with So...   \n",
       "11  11  BBC Comedy Sketch \"Real Housewives of ISIS\" Ca...   \n",
       "\n",
       "                          author  \\\n",
       "0                  Darrell Lucus   \n",
       "1                Daniel J. Flynn   \n",
       "2             Consortiumnews.com   \n",
       "3                Jessica Purkiss   \n",
       "4                 Howard Portnoy   \n",
       "5                Daniel Nussbaum   \n",
       "7                Alissa J. Rubin   \n",
       "9   Megan Twohey and Scott Shane   \n",
       "10                   Aaron Klein   \n",
       "11               Chris Tomlinson   \n",
       "\n",
       "                                                 text  label  \n",
       "0   House Dem Aide: We Didn’t Even See Comey’s Let...      1  \n",
       "1   Ever get the feeling your life circles the rou...      0  \n",
       "2   Why the Truth Might Get You Fired October 29, ...      1  \n",
       "3   Videos 15 Civilians Killed In Single US Airstr...      1  \n",
       "4   Print \\nAn Iranian woman has been sentenced to...      1  \n",
       "5   In these trying times, Jackie Mason is the Voi...      0  \n",
       "7   PARIS  —   France chose an idealistic, traditi...      0  \n",
       "9   A week before Michael T. Flynn resigned as nat...      0  \n",
       "10  Organizing for Action, the activist group that...      0  \n",
       "11  The BBC produced spoof on the “Real Housewives...      0  "
      ]
     },
     "execution_count": 11,
     "metadata": {},
     "output_type": "execute_result"
    }
   ],
   "source": [
    "df.head(10)"
   ]
  },
  {
   "cell_type": "code",
   "execution_count": 12,
   "id": "a10e669c",
   "metadata": {},
   "outputs": [],
   "source": [
    "news = df.copy()"
   ]
  },
  {
   "cell_type": "code",
   "execution_count": 13,
   "id": "5ef43a46",
   "metadata": {},
   "outputs": [],
   "source": [
    "news.reset_index(inplace = True)"
   ]
  },
  {
   "cell_type": "code",
   "execution_count": 14,
   "id": "fa03f7e8",
   "metadata": {},
   "outputs": [
    {
     "data": {
      "text/html": [
       "<div>\n",
       "<style scoped>\n",
       "    .dataframe tbody tr th:only-of-type {\n",
       "        vertical-align: middle;\n",
       "    }\n",
       "\n",
       "    .dataframe tbody tr th {\n",
       "        vertical-align: top;\n",
       "    }\n",
       "\n",
       "    .dataframe thead th {\n",
       "        text-align: right;\n",
       "    }\n",
       "</style>\n",
       "<table border=\"1\" class=\"dataframe\">\n",
       "  <thead>\n",
       "    <tr style=\"text-align: right;\">\n",
       "      <th></th>\n",
       "      <th>index</th>\n",
       "      <th>id</th>\n",
       "      <th>title</th>\n",
       "      <th>author</th>\n",
       "      <th>text</th>\n",
       "      <th>label</th>\n",
       "    </tr>\n",
       "  </thead>\n",
       "  <tbody>\n",
       "    <tr>\n",
       "      <th>0</th>\n",
       "      <td>0</td>\n",
       "      <td>0</td>\n",
       "      <td>House Dem Aide: We Didn’t Even See Comey’s Let...</td>\n",
       "      <td>Darrell Lucus</td>\n",
       "      <td>House Dem Aide: We Didn’t Even See Comey’s Let...</td>\n",
       "      <td>1</td>\n",
       "    </tr>\n",
       "    <tr>\n",
       "      <th>1</th>\n",
       "      <td>1</td>\n",
       "      <td>1</td>\n",
       "      <td>FLYNN: Hillary Clinton, Big Woman on Campus - ...</td>\n",
       "      <td>Daniel J. Flynn</td>\n",
       "      <td>Ever get the feeling your life circles the rou...</td>\n",
       "      <td>0</td>\n",
       "    </tr>\n",
       "    <tr>\n",
       "      <th>2</th>\n",
       "      <td>2</td>\n",
       "      <td>2</td>\n",
       "      <td>Why the Truth Might Get You Fired</td>\n",
       "      <td>Consortiumnews.com</td>\n",
       "      <td>Why the Truth Might Get You Fired October 29, ...</td>\n",
       "      <td>1</td>\n",
       "    </tr>\n",
       "    <tr>\n",
       "      <th>3</th>\n",
       "      <td>3</td>\n",
       "      <td>3</td>\n",
       "      <td>15 Civilians Killed In Single US Airstrike Hav...</td>\n",
       "      <td>Jessica Purkiss</td>\n",
       "      <td>Videos 15 Civilians Killed In Single US Airstr...</td>\n",
       "      <td>1</td>\n",
       "    </tr>\n",
       "    <tr>\n",
       "      <th>4</th>\n",
       "      <td>4</td>\n",
       "      <td>4</td>\n",
       "      <td>Iranian woman jailed for fictional unpublished...</td>\n",
       "      <td>Howard Portnoy</td>\n",
       "      <td>Print \\nAn Iranian woman has been sentenced to...</td>\n",
       "      <td>1</td>\n",
       "    </tr>\n",
       "    <tr>\n",
       "      <th>5</th>\n",
       "      <td>5</td>\n",
       "      <td>5</td>\n",
       "      <td>Jackie Mason: Hollywood Would Love Trump if He...</td>\n",
       "      <td>Daniel Nussbaum</td>\n",
       "      <td>In these trying times, Jackie Mason is the Voi...</td>\n",
       "      <td>0</td>\n",
       "    </tr>\n",
       "    <tr>\n",
       "      <th>6</th>\n",
       "      <td>7</td>\n",
       "      <td>7</td>\n",
       "      <td>Benoît Hamon Wins French Socialist Party’s Pre...</td>\n",
       "      <td>Alissa J. Rubin</td>\n",
       "      <td>PARIS  —   France chose an idealistic, traditi...</td>\n",
       "      <td>0</td>\n",
       "    </tr>\n",
       "    <tr>\n",
       "      <th>7</th>\n",
       "      <td>9</td>\n",
       "      <td>9</td>\n",
       "      <td>A Back-Channel Plan for Ukraine and Russia, Co...</td>\n",
       "      <td>Megan Twohey and Scott Shane</td>\n",
       "      <td>A week before Michael T. Flynn resigned as nat...</td>\n",
       "      <td>0</td>\n",
       "    </tr>\n",
       "    <tr>\n",
       "      <th>8</th>\n",
       "      <td>10</td>\n",
       "      <td>10</td>\n",
       "      <td>Obama’s Organizing for Action Partners with So...</td>\n",
       "      <td>Aaron Klein</td>\n",
       "      <td>Organizing for Action, the activist group that...</td>\n",
       "      <td>0</td>\n",
       "    </tr>\n",
       "    <tr>\n",
       "      <th>9</th>\n",
       "      <td>11</td>\n",
       "      <td>11</td>\n",
       "      <td>BBC Comedy Sketch \"Real Housewives of ISIS\" Ca...</td>\n",
       "      <td>Chris Tomlinson</td>\n",
       "      <td>The BBC produced spoof on the “Real Housewives...</td>\n",
       "      <td>0</td>\n",
       "    </tr>\n",
       "  </tbody>\n",
       "</table>\n",
       "</div>"
      ],
      "text/plain": [
       "   index  id                                              title  \\\n",
       "0      0   0  House Dem Aide: We Didn’t Even See Comey’s Let...   \n",
       "1      1   1  FLYNN: Hillary Clinton, Big Woman on Campus - ...   \n",
       "2      2   2                  Why the Truth Might Get You Fired   \n",
       "3      3   3  15 Civilians Killed In Single US Airstrike Hav...   \n",
       "4      4   4  Iranian woman jailed for fictional unpublished...   \n",
       "5      5   5  Jackie Mason: Hollywood Would Love Trump if He...   \n",
       "6      7   7  Benoît Hamon Wins French Socialist Party’s Pre...   \n",
       "7      9   9  A Back-Channel Plan for Ukraine and Russia, Co...   \n",
       "8     10  10  Obama’s Organizing for Action Partners with So...   \n",
       "9     11  11  BBC Comedy Sketch \"Real Housewives of ISIS\" Ca...   \n",
       "\n",
       "                         author  \\\n",
       "0                 Darrell Lucus   \n",
       "1               Daniel J. Flynn   \n",
       "2            Consortiumnews.com   \n",
       "3               Jessica Purkiss   \n",
       "4                Howard Portnoy   \n",
       "5               Daniel Nussbaum   \n",
       "6               Alissa J. Rubin   \n",
       "7  Megan Twohey and Scott Shane   \n",
       "8                   Aaron Klein   \n",
       "9               Chris Tomlinson   \n",
       "\n",
       "                                                text  label  \n",
       "0  House Dem Aide: We Didn’t Even See Comey’s Let...      1  \n",
       "1  Ever get the feeling your life circles the rou...      0  \n",
       "2  Why the Truth Might Get You Fired October 29, ...      1  \n",
       "3  Videos 15 Civilians Killed In Single US Airstr...      1  \n",
       "4  Print \\nAn Iranian woman has been sentenced to...      1  \n",
       "5  In these trying times, Jackie Mason is the Voi...      0  \n",
       "6  PARIS  —   France chose an idealistic, traditi...      0  \n",
       "7  A week before Michael T. Flynn resigned as nat...      0  \n",
       "8  Organizing for Action, the activist group that...      0  \n",
       "9  The BBC produced spoof on the “Real Housewives...      0  "
      ]
     },
     "execution_count": 14,
     "metadata": {},
     "output_type": "execute_result"
    }
   ],
   "source": [
    "news.head(10)"
   ]
  },
  {
   "cell_type": "code",
   "execution_count": 18,
   "id": "dc7b13a6",
   "metadata": {},
   "outputs": [],
   "source": [
    "news = news.iloc[:8000,:]"
   ]
  },
  {
   "cell_type": "code",
   "execution_count": 19,
   "id": "ff6526cc",
   "metadata": {},
   "outputs": [],
   "source": [
    "from nltk.corpus import stopwords\n",
    "from nltk.stem.porter import PorterStemmer\n",
    "import re\n",
    "\n",
    "stemmer = PorterStemmer()\n",
    "\n"
   ]
  },
  {
   "cell_type": "code",
   "execution_count": 20,
   "id": "69b9e5c9",
   "metadata": {},
   "outputs": [],
   "source": [
    "corpus = []\n",
    "for i in range(0, len(news)):\n",
    "    review = re.sub('[^a-zA-Z]', ' ', news['text'][i])\n",
    "    review = review.lower()\n",
    "    review = review.split()\n",
    "    \n",
    "    review = [stemmer.stem(word) for word in review if not word in stopwords.words('english')]\n",
    "    review = ' '.join(review)\n",
    "    corpus.append(review)"
   ]
  },
  {
   "cell_type": "code",
   "execution_count": 21,
   "id": "90df4d8e",
   "metadata": {},
   "outputs": [
    {
     "data": {
      "text/plain": [
       "'pari franc chose idealist tradit candid sunday primari repres socialist parti presidenti elect spring candid beno hamon ran slogan would make franc heart beat best manuel vall former prime minist whose campaign promot polici strong background mr hamon appear wide margin incomplet return show estim percent vote mr vall percent tonight left hold head high look futur mr hamon said address support countri need left modern innov left said mr hamon victori clearest sign yet voter left want break polici presid fran oi holland decemb announc would seek howev mr hamon strong show unlik chang widespread assess candid littl chanc make second round vote gener elect first round gener elect set april runoff may socialist parti deepli divid one measur lack popular enthusiasm rel low number peopl vote two million peopl vote second round primari sunday contrast million second round last presidenti primari left howev much convent wisdom elect go thrown question past week lead candid fran oi fillon repres main parti republican accus pay wife larg sum money work parliamentari aid nepot legal french polit system clear actual work prosecutor special financi malfeas review case franc elector system allow multipl candid run presid first round vote top two go second round mr hamon enter race alreadi crowd left candid includ lenchon far left emmanuel macron independ serv economi minist mr holland govern embrac polici unless decid withdraw mr fillon mainstream right candid also run extrem right candid marin le pen two expect go runoff mr hamon victori attribut least part imag idealist tradit leftist candid appeal union voter well environment concern social liber young peopl unlik mr vall also clearli distanc mr holland unpopular polici especi econom one thoma kekenbosch student one leader group youth beno hamon said mr hamon embodi new hope left perspect someth build mr kekenbosch said mr holland disappoint mani young peopl parti abandon ideal support worker mani voter believ accord mr kekenbosch mr holland govern pressur european union meet budget restraint struggl pass labor code reform make market attract foreign investor also encourag french busi expand franc measur ultim pass week strike water gener littl concret progress improv franc roughli percent unemploy rate nearli percent youth jobless rate mr hamon strongli endors stimulu approach improv economi promis phase univers incom would especi help young peopl look work would also supplement livelihood french worker end goal would everyon receiv euro per month someon trust us mr kekenbosch said say give enough pay studi scholarship spare work mcdonald provision contract year mr hamon advoc phase diesel fuel encourag driver replac vehicl use petroleum product electr one leftist pedigre began earli father work arsen brest citi far west brittani mother work secretari earli member movement young socialist continu work close polit life also work martin aubri mayor lill former socialist parti leader'"
      ]
     },
     "execution_count": 21,
     "metadata": {},
     "output_type": "execute_result"
    }
   ],
   "source": [
    "corpus[6]"
   ]
  },
  {
   "cell_type": "code",
   "execution_count": 22,
   "id": "3eeacca4",
   "metadata": {},
   "outputs": [],
   "source": [
    "from sklearn.feature_extraction.text import TfidfVectorizer\n",
    "\n",
    "tfidf = TfidfVectorizer(max_features = 5000, ngram_range = (1,3))\n",
    "X = tfidf.fit_transform(corpus).toarray()"
   ]
  },
  {
   "cell_type": "code",
   "execution_count": 23,
   "id": "30b53e2f",
   "metadata": {},
   "outputs": [
    {
     "data": {
      "text/plain": [
       "(8000, 5000)"
      ]
     },
     "execution_count": 23,
     "metadata": {},
     "output_type": "execute_result"
    }
   ],
   "source": [
    "X.shape"
   ]
  },
  {
   "cell_type": "code",
   "execution_count": 24,
   "id": "771ca5f2",
   "metadata": {},
   "outputs": [],
   "source": [
    "y = news['label']"
   ]
  },
  {
   "cell_type": "code",
   "execution_count": 26,
   "id": "b021f26f",
   "metadata": {},
   "outputs": [],
   "source": [
    "from sklearn.model_selection import train_test_split\n",
    "x_train, x_test, y_train, y_test = train_test_split(X,y, test_size=0.2, random_state = 0)"
   ]
  },
  {
   "cell_type": "code",
   "execution_count": 28,
   "id": "346e07c7",
   "metadata": {},
   "outputs": [
    {
     "name": "stderr",
     "output_type": "stream",
     "text": [
      "C:\\Users\\barat\\anaconda3\\lib\\site-packages\\sklearn\\utils\\deprecation.py:87: FutureWarning: Function get_feature_names is deprecated; get_feature_names is deprecated in 1.0 and will be removed in 1.2. Please use get_feature_names_out instead.\n",
      "  warnings.warn(msg, category=FutureWarning)\n"
     ]
    },
    {
     "data": {
      "text/plain": [
       "['aaron',\n",
       " 'abandon',\n",
       " 'abc',\n",
       " 'abc news',\n",
       " 'abe',\n",
       " 'abedin',\n",
       " 'abil',\n",
       " 'abl',\n",
       " 'abort',\n",
       " 'abroad']"
      ]
     },
     "execution_count": 28,
     "metadata": {},
     "output_type": "execute_result"
    }
   ],
   "source": [
    "tfidf.get_feature_names()[:10]"
   ]
  },
  {
   "cell_type": "code",
   "execution_count": 30,
   "id": "2d66a204",
   "metadata": {},
   "outputs": [
    {
     "data": {
      "text/plain": [
       "{'analyzer': 'word',\n",
       " 'binary': False,\n",
       " 'decode_error': 'strict',\n",
       " 'dtype': numpy.float64,\n",
       " 'encoding': 'utf-8',\n",
       " 'input': 'content',\n",
       " 'lowercase': True,\n",
       " 'max_df': 1.0,\n",
       " 'max_features': 5000,\n",
       " 'min_df': 1,\n",
       " 'ngram_range': (1, 3),\n",
       " 'norm': 'l2',\n",
       " 'preprocessor': None,\n",
       " 'smooth_idf': True,\n",
       " 'stop_words': None,\n",
       " 'strip_accents': None,\n",
       " 'sublinear_tf': False,\n",
       " 'token_pattern': '(?u)\\\\b\\\\w\\\\w+\\\\b',\n",
       " 'tokenizer': None,\n",
       " 'use_idf': True,\n",
       " 'vocabulary': None}"
      ]
     },
     "execution_count": 30,
     "metadata": {},
     "output_type": "execute_result"
    }
   ],
   "source": [
    "tfidf.get_params()"
   ]
  },
  {
   "cell_type": "code",
   "execution_count": 32,
   "id": "d58a5c1a",
   "metadata": {},
   "outputs": [],
   "source": [
    "count_df = pd.DataFrame(x_train, columns=tfidf.get_feature_names())"
   ]
  },
  {
   "cell_type": "code",
   "execution_count": 33,
   "id": "4a691634",
   "metadata": {},
   "outputs": [
    {
     "data": {
      "text/html": [
       "<div>\n",
       "<style scoped>\n",
       "    .dataframe tbody tr th:only-of-type {\n",
       "        vertical-align: middle;\n",
       "    }\n",
       "\n",
       "    .dataframe tbody tr th {\n",
       "        vertical-align: top;\n",
       "    }\n",
       "\n",
       "    .dataframe thead th {\n",
       "        text-align: right;\n",
       "    }\n",
       "</style>\n",
       "<table border=\"1\" class=\"dataframe\">\n",
       "  <thead>\n",
       "    <tr style=\"text-align: right;\">\n",
       "      <th></th>\n",
       "      <th>aaron</th>\n",
       "      <th>abandon</th>\n",
       "      <th>abc</th>\n",
       "      <th>abc news</th>\n",
       "      <th>abe</th>\n",
       "      <th>abedin</th>\n",
       "      <th>abil</th>\n",
       "      <th>abl</th>\n",
       "      <th>abort</th>\n",
       "      <th>abroad</th>\n",
       "      <th>...</th>\n",
       "      <th>young man</th>\n",
       "      <th>young peopl</th>\n",
       "      <th>younger</th>\n",
       "      <th>youth</th>\n",
       "      <th>youtub</th>\n",
       "      <th>zero</th>\n",
       "      <th>zika</th>\n",
       "      <th>zionist</th>\n",
       "      <th>zone</th>\n",
       "      <th>zu</th>\n",
       "    </tr>\n",
       "  </thead>\n",
       "  <tbody>\n",
       "    <tr>\n",
       "      <th>0</th>\n",
       "      <td>0.0</td>\n",
       "      <td>0.000000</td>\n",
       "      <td>0.0</td>\n",
       "      <td>0.0</td>\n",
       "      <td>0.0</td>\n",
       "      <td>0.0</td>\n",
       "      <td>0.0</td>\n",
       "      <td>0.019717</td>\n",
       "      <td>0.0</td>\n",
       "      <td>0.0</td>\n",
       "      <td>...</td>\n",
       "      <td>0.0</td>\n",
       "      <td>0.0</td>\n",
       "      <td>0.029449</td>\n",
       "      <td>0.030474</td>\n",
       "      <td>0.0</td>\n",
       "      <td>0.000000</td>\n",
       "      <td>0.0</td>\n",
       "      <td>0.0</td>\n",
       "      <td>0.0</td>\n",
       "      <td>0.0</td>\n",
       "    </tr>\n",
       "    <tr>\n",
       "      <th>1</th>\n",
       "      <td>0.0</td>\n",
       "      <td>0.000000</td>\n",
       "      <td>0.0</td>\n",
       "      <td>0.0</td>\n",
       "      <td>0.0</td>\n",
       "      <td>0.0</td>\n",
       "      <td>0.0</td>\n",
       "      <td>0.000000</td>\n",
       "      <td>0.0</td>\n",
       "      <td>0.0</td>\n",
       "      <td>...</td>\n",
       "      <td>0.0</td>\n",
       "      <td>0.0</td>\n",
       "      <td>0.000000</td>\n",
       "      <td>0.000000</td>\n",
       "      <td>0.0</td>\n",
       "      <td>0.000000</td>\n",
       "      <td>0.0</td>\n",
       "      <td>0.0</td>\n",
       "      <td>0.0</td>\n",
       "      <td>0.0</td>\n",
       "    </tr>\n",
       "    <tr>\n",
       "      <th>2</th>\n",
       "      <td>0.0</td>\n",
       "      <td>0.018512</td>\n",
       "      <td>0.0</td>\n",
       "      <td>0.0</td>\n",
       "      <td>0.0</td>\n",
       "      <td>0.0</td>\n",
       "      <td>0.0</td>\n",
       "      <td>0.000000</td>\n",
       "      <td>0.0</td>\n",
       "      <td>0.0</td>\n",
       "      <td>...</td>\n",
       "      <td>0.0</td>\n",
       "      <td>0.0</td>\n",
       "      <td>0.000000</td>\n",
       "      <td>0.000000</td>\n",
       "      <td>0.0</td>\n",
       "      <td>0.018976</td>\n",
       "      <td>0.0</td>\n",
       "      <td>0.0</td>\n",
       "      <td>0.0</td>\n",
       "      <td>0.0</td>\n",
       "    </tr>\n",
       "    <tr>\n",
       "      <th>3</th>\n",
       "      <td>0.0</td>\n",
       "      <td>0.000000</td>\n",
       "      <td>0.0</td>\n",
       "      <td>0.0</td>\n",
       "      <td>0.0</td>\n",
       "      <td>0.0</td>\n",
       "      <td>0.0</td>\n",
       "      <td>0.000000</td>\n",
       "      <td>0.0</td>\n",
       "      <td>0.0</td>\n",
       "      <td>...</td>\n",
       "      <td>0.0</td>\n",
       "      <td>0.0</td>\n",
       "      <td>0.000000</td>\n",
       "      <td>0.000000</td>\n",
       "      <td>0.0</td>\n",
       "      <td>0.000000</td>\n",
       "      <td>0.0</td>\n",
       "      <td>0.0</td>\n",
       "      <td>0.0</td>\n",
       "      <td>0.0</td>\n",
       "    </tr>\n",
       "    <tr>\n",
       "      <th>4</th>\n",
       "      <td>0.0</td>\n",
       "      <td>0.000000</td>\n",
       "      <td>0.0</td>\n",
       "      <td>0.0</td>\n",
       "      <td>0.0</td>\n",
       "      <td>0.0</td>\n",
       "      <td>0.0</td>\n",
       "      <td>0.000000</td>\n",
       "      <td>0.0</td>\n",
       "      <td>0.0</td>\n",
       "      <td>...</td>\n",
       "      <td>0.0</td>\n",
       "      <td>0.0</td>\n",
       "      <td>0.092157</td>\n",
       "      <td>0.047682</td>\n",
       "      <td>0.0</td>\n",
       "      <td>0.000000</td>\n",
       "      <td>0.0</td>\n",
       "      <td>0.0</td>\n",
       "      <td>0.0</td>\n",
       "      <td>0.0</td>\n",
       "    </tr>\n",
       "  </tbody>\n",
       "</table>\n",
       "<p>5 rows × 5000 columns</p>\n",
       "</div>"
      ],
      "text/plain": [
       "   aaron   abandon  abc  abc news  abe  abedin  abil       abl  abort  abroad  \\\n",
       "0    0.0  0.000000  0.0       0.0  0.0     0.0   0.0  0.019717    0.0     0.0   \n",
       "1    0.0  0.000000  0.0       0.0  0.0     0.0   0.0  0.000000    0.0     0.0   \n",
       "2    0.0  0.018512  0.0       0.0  0.0     0.0   0.0  0.000000    0.0     0.0   \n",
       "3    0.0  0.000000  0.0       0.0  0.0     0.0   0.0  0.000000    0.0     0.0   \n",
       "4    0.0  0.000000  0.0       0.0  0.0     0.0   0.0  0.000000    0.0     0.0   \n",
       "\n",
       "   ...  young man  young peopl   younger     youth  youtub      zero  zika  \\\n",
       "0  ...        0.0          0.0  0.029449  0.030474     0.0  0.000000   0.0   \n",
       "1  ...        0.0          0.0  0.000000  0.000000     0.0  0.000000   0.0   \n",
       "2  ...        0.0          0.0  0.000000  0.000000     0.0  0.018976   0.0   \n",
       "3  ...        0.0          0.0  0.000000  0.000000     0.0  0.000000   0.0   \n",
       "4  ...        0.0          0.0  0.092157  0.047682     0.0  0.000000   0.0   \n",
       "\n",
       "   zionist  zone   zu  \n",
       "0      0.0   0.0  0.0  \n",
       "1      0.0   0.0  0.0  \n",
       "2      0.0   0.0  0.0  \n",
       "3      0.0   0.0  0.0  \n",
       "4      0.0   0.0  0.0  \n",
       "\n",
       "[5 rows x 5000 columns]"
      ]
     },
     "execution_count": 33,
     "metadata": {},
     "output_type": "execute_result"
    }
   ],
   "source": [
    "count_df.head()"
   ]
  },
  {
   "cell_type": "code",
   "execution_count": 34,
   "id": "3fe66364",
   "metadata": {},
   "outputs": [],
   "source": [
    "def plot_confusion_matrix(cm, classes,\n",
    "                          normalize=False,\n",
    "                          title='Confusion matrix',\n",
    "                          cmap=plt.cm.Blues):\n",
    "    \"\"\"\n",
    "    See full source and example: \n",
    "    http://scikit-learn.org/stable/auto_examples/model_selection/plot_confusion_matrix.html\n",
    "    \n",
    "    This function prints and plots the confusion matrix.\n",
    "    Normalization can be applied by setting `normalize=True`.\n",
    "    \"\"\"\n",
    "    plt.imshow(cm, interpolation='nearest', cmap=cmap)\n",
    "    plt.title(title)\n",
    "    plt.colorbar()\n",
    "    tick_marks = np.arange(len(classes))\n",
    "    plt.xticks(tick_marks, classes, rotation=45)\n",
    "    plt.yticks(tick_marks, classes)\n",
    "\n",
    "    if normalize:\n",
    "        cm = cm.astype('float') / cm.sum(axis=1)[:, np.newaxis]\n",
    "        print(\"Normalized confusion matrix\")\n",
    "    else:\n",
    "        print('Confusion matrix, without normalization')\n",
    "\n",
    "    thresh = cm.max() / 2.\n",
    "    for i, j in itertools.product(range(cm.shape[0]), range(cm.shape[1])):\n",
    "        plt.text(j, i, cm[i, j],\n",
    "                 horizontalalignment=\"center\",\n",
    "                 color=\"white\" if cm[i, j] > thresh else \"black\")\n",
    "\n",
    "    plt.tight_layout()\n",
    "    plt.ylabel('True label')\n",
    "    plt.xlabel('Predicted label')"
   ]
  },
  {
   "cell_type": "code",
   "execution_count": 35,
   "id": "a5934649",
   "metadata": {},
   "outputs": [
    {
     "name": "stdout",
     "output_type": "stream",
     "text": [
      "accuracy:   0.897\n",
      "Confusion matrix, without normalization\n"
     ]
    },
    {
     "data": {
      "image/png": "[encoded data removed]",
      "text/plain": [
       "<Figure size 640x480 with 2 Axes>"
      ]
     },
     "metadata": {},
     "output_type": "display_data"
    }
   ],
   "source": [
    "from sklearn.naive_bayes import MultinomialNB\n",
    "from sklearn import metrics\n",
    "import numpy as np\n",
    "import itertools\n",
    "\n",
    "classifier=MultinomialNB()\n",
    "\n",
    "classifier.fit(x_train, y_train)\n",
    "pred = classifier.predict(x_test)\n",
    "score = metrics.accuracy_score(y_test, pred)\n",
    "print(\"accuracy:   %0.3f\" % score)\n",
    "cm = metrics.confusion_matrix(y_test, pred)\n",
    "plot_confusion_matrix(cm, classes=['FAKE', 'REAL'])"
   ]
  },
  {
   "cell_type": "code",
   "execution_count": 36,
   "id": "e3e74d94",
   "metadata": {},
   "outputs": [
    {
     "data": {
      "text/plain": [
       "0.8975"
      ]
     },
     "execution_count": 36,
     "metadata": {},
     "output_type": "execute_result"
    }
   ],
   "source": [
    "classifier.fit(x_train, y_train)\n",
    "pred = classifier.predict(x_test)\n",
    "score = metrics.accuracy_score(y_test, pred)\n",
    "score"
   ]
  },
  {
   "cell_type": "code",
   "execution_count": 37,
   "id": "1e42adc8",
   "metadata": {},
   "outputs": [],
   "source": [
    "classifier=MultinomialNB(alpha=0.1)"
   ]
  },
  {
   "cell_type": "code",
   "execution_count": 40,
   "id": "fccf374c",
   "metadata": {},
   "outputs": [
    {
     "name": "stderr",
     "output_type": "stream",
     "text": [
      "C:\\Users\\barat\\anaconda3\\lib\\site-packages\\sklearn\\naive_bayes.py:555: UserWarning: alpha too small will result in numeric errors, setting alpha = 1.0e-10\n",
      "  warnings.warn(\n"
     ]
    },
    {
     "name": "stdout",
     "output_type": "stream",
     "text": [
      "Alpha: 0.0, Score : 0.9025\n",
      "Alpha: 0.1, Score : 0.900625\n",
      "Alpha: 0.2, Score : 0.8975\n",
      "Alpha: 0.30000000000000004, Score : 0.8975\n",
      "Alpha: 0.4, Score : 0.89625\n",
      "Alpha: 0.5, Score : 0.89625\n",
      "Alpha: 0.6000000000000001, Score : 0.89625\n",
      "Alpha: 0.7000000000000001, Score : 0.896875\n",
      "Alpha: 0.8, Score : 0.896875\n",
      "Alpha: 0.9, Score : 0.8975\n"
     ]
    }
   ],
   "source": [
    "previous_score=0\n",
    "for alpha in np.arange(0,1,0.1):\n",
    "    sub_classifier=MultinomialNB(alpha=alpha)\n",
    "    sub_classifier.fit(x_train,y_train)\n",
    "    y_pred=sub_classifier.predict(x_test)\n",
    "    score = metrics.accuracy_score(y_test, y_pred)\n",
    "    if score>previous_score:\n",
    "        classifier=sub_classifier\n",
    "    print(\"Alpha: {}, Score : {}\".format(alpha,score))"
   ]
  },
  {
   "cell_type": "code",
   "execution_count": 44,
   "id": "3e062a28",
   "metadata": {},
   "outputs": [
    {
     "name": "stderr",
     "output_type": "stream",
     "text": [
      "C:\\Users\\barat\\anaconda3\\lib\\site-packages\\sklearn\\utils\\deprecation.py:103: FutureWarning: Attribute `coef_` was deprecated in version 0.24 and will be removed in 1.1 (renaming of 0.26).\n",
      "  warnings.warn(msg, category=FutureWarning)\n"
     ]
    },
    {
     "data": {
      "text/plain": [
       "array([-9.65979097, -8.82296773, -8.75794133, ..., -9.15121614,\n",
       "       -8.25350163, -8.20919719])"
      ]
     },
     "execution_count": 44,
     "metadata": {},
     "output_type": "execute_result"
    }
   ],
   "source": [
    "classifier.coef_[0]"
   ]
  },
  {
   "cell_type": "code",
   "execution_count": 45,
   "id": "cd25d474",
   "metadata": {},
   "outputs": [
    {
     "data": {
      "text/plain": [
       "[(-5.44652510266007, 'clinton'),\n",
       " (-5.567042855438324, 'trump'),\n",
       " (-5.717538695736962, 'hillari'),\n",
       " (-5.979346259447694, 'us'),\n",
       " (-6.009752960303674, 'elect'),\n",
       " (-6.212934717367198, 'peopl'),\n",
       " (-6.2296172311108675, 'email'),\n",
       " (-6.237037083657195, 'state'),\n",
       " (-6.307370501763831, 'one'),\n",
       " (-6.3150494274759525, 'vote'),\n",
       " (-6.339547564981536, 'fbi'),\n",
       " (-6.343887189184331, 'hillari clinton'),\n",
       " (-6.381770488868615, 'would'),\n",
       " (-6.420393730297954, 'like'),\n",
       " (-6.440116702805438, 'american'),\n",
       " (-6.454784336632134, 'war'),\n",
       " (-6.500814887825382, 'time'),\n",
       " (-6.505398322589187, 'world'),\n",
       " (-6.519242485924222, 'use'),\n",
       " (-6.5269278123619685, 'octob')]"
      ]
     },
     "execution_count": 45,
     "metadata": {},
     "output_type": "execute_result"
    }
   ],
   "source": [
    "sorted(zip(classifier.coef_[0], feature_names), reverse=True)[:20]"
   ]
  },
  {
   "cell_type": "code",
   "execution_count": 46,
   "id": "3833831c",
   "metadata": {},
   "outputs": [
    {
     "data": {
      "text/plain": [
       "[(-10.411285028270981, 'advis mr'),\n",
       " (-10.411285028270981, 'automak'),\n",
       " (-10.411285028270981, 'brief post'),\n",
       " (-10.411285028270981, 'critic mr'),\n",
       " (-10.411285028270981, 'espn'),\n",
       " (-10.411285028270981, 'follow pam'),\n",
       " (-10.411285028270981, 'follow pam key'),\n",
       " (-10.411285028270981, 'freedom caucu'),\n",
       " (-10.411285028270981, 'gold medal'),\n",
       " (-10.411285028270981, 'gorsuch'),\n",
       " (-10.411285028270981, 'hawkin'),\n",
       " (-10.411285028270981, 'judg gorsuch'),\n",
       " (-10.411285028270981, 'key twitter'),\n",
       " (-10.411285028270981, 'key twitter pamkeynen'),\n",
       " (-10.411285028270981, 'month mr'),\n",
       " (-10.411285028270981, 'morn brief'),\n",
       " (-10.411285028270981, 'mr ail'),\n",
       " (-10.411285028270981, 'mr bannon'),\n",
       " (-10.411285028270981, 'mr christi'),\n",
       " (-10.411285028270981, 'mr dutert'),\n",
       " (-10.411285028270981, 'mr flynn'),\n",
       " (-10.411285028270981, 'mr kushner'),\n",
       " (-10.411285028270981, 'mr roof'),\n",
       " (-10.411285028270981, 'mr sander'),\n",
       " (-10.411285028270981, 'mr scott'),\n",
       " (-10.411285028270981, 'mr session'),\n",
       " (-10.411285028270981, 'mr spicer'),\n",
       " (-10.411285028270981, 'mr tillerson'),\n",
       " (-10.411285028270981, 'mr xi'),\n",
       " (-10.411285028270981, 'ms park'),\n",
       " (-10.411285028270981, 'ms trump'),\n",
       " (-10.411285028270981, 'mulvaney'),\n",
       " (-10.411285028270981, 'nune'),\n",
       " (-10.411285028270981, 'pam key'),\n",
       " (-10.411285028270981, 'pam key twitter'),\n",
       " (-10.411285028270981, 'pamkeynen'),\n",
       " (-10.411285028270981, 'playoff'),\n",
       " (-10.411285028270981, 'rahami'),\n",
       " (-10.411285028270981, 'said ms'),\n",
       " (-10.411285028270981, 'sean spicer'),\n",
       " (-10.411285028270981, 'sinc mr'),\n",
       " (-10.411285028270981, 'spicer'),\n",
       " (-10.411285028270981, 'takata'),\n",
       " (-10.411285028270981, 'tillerson'),\n",
       " (-10.411285028270981, 'twitter pamkeynen'),\n",
       " (-10.411285028270981, 'volkswagen'),\n",
       " (-10.390191614335906, 'mr assad'),\n",
       " (-10.389816265942647, 'matti'),\n",
       " (-10.38063773076963, 'year mr'),\n",
       " (-10.37560271823672, 'day mr'),\n",
       " (-10.371031835525558, 'support mr trump'),\n",
       " (-10.368759398150141, 'mr trump campaign'),\n",
       " (-10.368282467558608, 'weekday eastern'),\n",
       " (-10.36132227435301, 'blasio'),\n",
       " (-10.36132227435301, 'de blasio'),\n",
       " (-10.349742829637062, 'mr kerri'),\n",
       " (-10.349630553955203, 'said mr trump'),\n",
       " (-10.348621534543794, 'like mr'),\n",
       " (-10.337708062091503, 'even mr'),\n",
       " (-10.334127058270981, 'pruitt'),\n",
       " (-10.330449199266603, 'mr penc'),\n",
       " (-10.327512365008506, 'tournament'),\n",
       " (-10.326203072584049, 'kushner'),\n",
       " (-10.32583085275462, 'jare kushner'),\n",
       " (-10.323900651583862, 'yiannopoulo'),\n",
       " (-10.31822288577739, 'news daili'),\n",
       " (-10.318014829319834, 'breitbart news daili'),\n",
       " (-10.306841176949716, 'compani said'),\n",
       " (-10.306796169748335, 'super bowl'),\n",
       " (-10.30494930920508, 'mr trump said'),\n",
       " (-10.298475384450315, 'gunman'),\n",
       " (-10.295226267726756, 'nytim'),\n",
       " (-10.294064756547423, 'nytim com'),\n",
       " (-10.28840317190609, 'meet mr'),\n",
       " (-10.285240762829497, 'owen'),\n",
       " (-10.280170572721815, 'mateen'),\n",
       " (-10.27907474750103, 'presid mr'),\n",
       " (-10.270865876544107, 'border wall'),\n",
       " (-10.267571166691846, 'detaine'),\n",
       " (-10.265524128701292, 'bradi'),\n",
       " (-10.259548582571815, 'weekday'),\n",
       " (-10.25887154961608, 'hous offici'),\n",
       " (-10.258197996788084, 'jacket'),\n",
       " (-10.257283371038756, 'jeff session'),\n",
       " (-10.25460113574244, 'support mr'),\n",
       " (-10.254270175586182, 'said news'),\n",
       " (-10.249689989667822, 'perez'),\n",
       " (-10.245389033654877, 'state mr'),\n",
       " (-10.244245819724751, 'call mr'),\n",
       " (-10.236133417655534, 'show mr'),\n",
       " (-10.233521658457931, 'work mr'),\n",
       " (-10.231873356524916, 'report breitbart'),\n",
       " (-10.229319954058493, 'pollak'),\n",
       " (-10.224701879908707, 'mr ryan'),\n",
       " (-10.221961903313941, 'stephen bannon'),\n",
       " (-10.22011465270587, 'mcconnel'),\n",
       " (-10.21932182861176, 'said recent'),\n",
       " (-10.217674193647365, 'week mr'),\n",
       " (-10.216016002172585, 'vote mr'),\n",
       " (-10.213830301823082, 'memoir')]"
      ]
     },
     "execution_count": 46,
     "metadata": {},
     "output_type": "execute_result"
    }
   ],
   "source": [
    "sorted(zip(classifier.coef_[0], feature_names))[:100]"
   ]
  },
  {
   "cell_type": "code",
   "execution_count": null,
   "id": "abb1fafa",
   "metadata": {},
   "outputs": [],
   "source": []
  }
 ],
 "metadata": {
  "kernelspec": {
   "display_name": "Python 3 (ipykernel)",
   "language": "python",
   "name": "python3"
  },
  "language_info": {
   "codemirror_mode": {
    "name": "ipython",
    "version": 3
   },
   "file_extension": ".py",
   "mimetype": "text/x-python",
   "name": "python",
   "nbconvert_exporter": "python",
   "pygments_lexer": "ipython3",
   "version": "3.9.13"
  }
 },
 "nbformat": 4,
 "nbformat_minor": 5
}
